{
 "cells": [
  {
   "cell_type": "code",
   "execution_count": 5,
   "id": "c92af8d5",
   "metadata": {},
   "outputs": [
    {
     "name": "stdout",
     "output_type": "stream",
     "text": [
      "[*] 開始遞迴掃描目錄: standard_json\n",
      "[*] 共找到 163448 個符合 .json 模式的檔案。\n",
      "[*] 過濾掉系統檔案後，將處理 81724 個有效 JSON 檔案...\n"
     ]
    },
    {
     "name": "stderr",
     "output_type": "stream",
     "text": [
      "正在處理JSON檔案: 100%|██████████| 81724/81724 [07:41<00:00, 177.25it/s] \n"
     ]
    },
    {
     "name": "stdout",
     "output_type": "stream",
     "text": [
      "\n",
      "[+] 處理完成！資料已成功儲存至: output\\final_audio_paths.csv\n"
     ]
    }
   ],
   "source": [
    "from tqdm import tqdm\n",
    "import json\n",
    "import pandas as pd\n",
    "from pathlib import Path\n",
    "from typing import List, Dict, Any, Optional\n",
    "\n",
    "class JsonToCsvProcessor:\n",
    "    \"\"\"\n",
    "    一個用於處理 JSON 檔案並轉換為 CSV 的類別。\n",
    "\n",
    "    該類別會遞迴遍歷來源目錄，**並自動過濾掉 macOS 的系統檔案**，\n",
    "    讀取所有有效的 .json 檔案，提取特定鍵值，並將轉換後的路徑寫入 CSV。\n",
    "    \"\"\"\n",
    "    def __init__(self, input_dir: str, output_csv: str, target_key: str = \"台羅\"):\n",
    "        self.input_path = Path(input_dir)\n",
    "        self.output_path = Path(output_csv)\n",
    "        self.target_key = target_key\n",
    "        self.processed_data: List[Dict[str, Any]] = []\n",
    "\n",
    "        if not self.input_path.is_dir():\n",
    "            raise FileNotFoundError(f\"錯誤：來源目錄不存在 -> {self.input_path}\")\n",
    "\n",
    "    def _transform_path(self, json_path: Path) -> str:\n",
    "        \"\"\"\n",
    "        根據指定規則，將 JSON 路徑轉換為目標 WAV 路徑 (此方法無需修改)。\n",
    "        \"\"\"\n",
    "        path_str = str(json_path.resolve())\n",
    "        transformed_path_str = path_str.replace(\"standard_json\", \"standard\", 1)\n",
    "        final_path = Path(transformed_path_str).with_suffix(\".wav\")\n",
    "        return str(final_path)\n",
    "\n",
    "    def _process_single_file(self, file_path: Path) -> Optional[Dict[str, Any]]:\n",
    "        \"\"\"\n",
    "        處理單一 JSON 檔案 (此方法無需修改)。\n",
    "        \"\"\"\n",
    "        try:\n",
    "            with open(file_path, 'r', encoding='utf-8') as f:\n",
    "                content = json.load(f)\n",
    "            \n",
    "            if self.target_key in content:\n",
    "                target_path = self._transform_path(file_path)\n",
    "                return {\n",
    "                    self.target_key: content[self.target_key],\n",
    "                    \"pathfile\": target_path\n",
    "                }\n",
    "            else:\n",
    "                print(f\"[警告] 檔案 {file_path.name} 中找不到鍵值 '{self.target_key}'，已略過。\")\n",
    "                return None\n",
    "        except (json.JSONDecodeError, UnicodeDecodeError) as e: # 增加對 UnicodeDecodeError 的捕獲以提高穩健性\n",
    "            print(f\"[警告] 讀取檔案 {file_path.name} 時發生錯誤: {e}，已略過。\")\n",
    "            return None\n",
    "        except Exception as e:\n",
    "            print(f\"[錯誤] 處理檔案 {file_path.name} 時發生未知錯誤: {e}\")\n",
    "            return None\n",
    "\n",
    "    def run(self) -> None:\n",
    "        \"\"\"\n",
    "        執行整個處理流程，增加對系統檔案的過濾。\n",
    "        \"\"\"\n",
    "        print(f\"[*] 開始遞迴掃描目錄: {self.input_path}\")\n",
    "        all_files = list(self.input_path.rglob('*.json'))\n",
    "        \n",
    "        if not all_files:\n",
    "            print(\"[!] 目錄及其子目錄中未找到任何 .json 檔案。\")\n",
    "            return\n",
    "            \n",
    "        print(f\"[*] 共找到 {len(all_files)} 個符合 .json 模式的檔案。\")\n",
    "\n",
    "        # --- 核心修改處：過濾掉以 '._' 開頭的 macOS 系統檔案 ---\n",
    "        json_files = [f for f in all_files if not f.name.startswith('._')]\n",
    "        \n",
    "        print(f\"[*] 過濾掉系統檔案後，將處理 {len(json_files)} 個有效 JSON 檔案...\")\n",
    "\n",
    "        for file_path in tqdm(json_files, desc=\"正在處理JSON檔案\"):\n",
    "            result = self._process_single_file(file_path)\n",
    "            if result:\n",
    "                self.processed_data.append(result)\n",
    "        \n",
    "        if self.processed_data:\n",
    "            self._save_to_csv()\n",
    "        else:\n",
    "            print(\"[!] 沒有成功處理任何資料，不產生 CSV 檔案。\")\n",
    "\n",
    "    def _save_to_csv(self) -> None:\n",
    "        \"\"\"\n",
    "        將處理完成的資料儲存為 CSV 檔案 (此方法無需修改)。\n",
    "        \"\"\"\n",
    "        df = pd.DataFrame(self.processed_data)\n",
    "        column_order = [self.target_key, \"pathfile\"]\n",
    "        df = df[column_order]\n",
    "        \n",
    "        try:\n",
    "            self.output_path.parent.mkdir(parents=True, exist_ok=True)\n",
    "            df.to_csv(self.output_path, index=False, encoding='utf-8-sig')\n",
    "            print(f\"\\n[+] 處理完成！資料已成功儲存至: {self.output_path}\")\n",
    "        except Exception as e:\n",
    "            print(f\"[錯誤] 儲存 CSV 檔案時發生錯誤: {e}\")\n",
    "\n",
    "# --- 主程式執行區塊 (無需修改) ---\n",
    "if __name__ == \"__main__\":\n",
    "    SOURCE_DIRECTORY = \"./standard_json\"\n",
    "    OUTPUT_CSV_FILE = \"./output/final_audio_paths.csv\"\n",
    "    \n",
    "    try:\n",
    "        processor = JsonToCsvProcessor(\n",
    "            input_dir=SOURCE_DIRECTORY, \n",
    "            output_csv=OUTPUT_CSV_FILE\n",
    "        )\n",
    "        processor.run()\n",
    "    except FileNotFoundError as e:\n",
    "        print(e)\n",
    "    except Exception as e:\n",
    "        print(f\"程式執行時發生未預期的錯誤: {e}\")"
   ]
  },
  {
   "cell_type": "code",
   "execution_count": 4,
   "id": "69e909fe",
   "metadata": {},
   "outputs": [
    {
     "name": "stdout",
     "output_type": "stream",
     "text": [
      "Requirement already satisfied: tqdm in c:\\users\\user\\appdata\\local\\packages\\pythonsoftwarefoundation.python.3.11_qbz5n2kfra8p0\\localcache\\local-packages\\python311\\site-packages (4.67.1)\n",
      "Requirement already satisfied: colorama in c:\\users\\user\\appdata\\local\\packages\\pythonsoftwarefoundation.python.3.11_qbz5n2kfra8p0\\localcache\\local-packages\\python311\\site-packages (from tqdm) (0.4.6)\n",
      "Note: you may need to restart the kernel to use updated packages.\n"
     ]
    }
   ],
   "source": [
    "pip install tqdm"
   ]
  }
 ],
 "metadata": {
  "kernelspec": {
   "display_name": "Python (語音辨識專案)",
   "language": "python",
   "name": "project-speech-rec"
  },
  "language_info": {
   "codemirror_mode": {
    "name": "ipython",
    "version": 3
   },
   "file_extension": ".py",
   "mimetype": "text/x-python",
   "name": "python",
   "nbconvert_exporter": "python",
   "pygments_lexer": "ipython3",
   "version": "3.11.9"
  }
 },
 "nbformat": 4,
 "nbformat_minor": 5
}
